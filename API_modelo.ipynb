{
 "cells": [
  {
   "cell_type": "markdown",
   "id": "4e4723c1",
   "metadata": {},
   "source": [
    "## Deploy do Modelo"
   ]
  },
  {
   "cell_type": "markdown",
   "id": "2474e630",
   "metadata": {},
   "source": [
    "Esse notebook, é referente a utilização da API criada para o deploy do modelo. A API foi criada utilizando o editor Visual Code, e nesse notebook, vamos configuar e fazer uma chamada na API criada"
   ]
  },
  {
   "cell_type": "markdown",
   "id": "203db02f",
   "metadata": {},
   "source": [
    "## Import Bibliotecas"
   ]
  },
  {
   "cell_type": "code",
   "execution_count": 27,
   "id": "6805537d",
   "metadata": {},
   "outputs": [],
   "source": [
    "import numpy as nump\n",
    "import pandas as pd\n",
    "import joblib\n",
    "import json\n",
    "import pickle\n",
    "import nltk\n",
    "import os\n",
    "from flask import Flask, request, render_template, make_response\n",
    "import requests"
   ]
  },
  {
   "cell_type": "markdown",
   "id": "be7fdfba",
   "metadata": {},
   "source": [
    "## Formatando dados de Entrega"
   ]
  },
  {
   "cell_type": "code",
   "execution_count": 45,
   "id": "bcba5aec",
   "metadata": {},
   "outputs": [],
   "source": [
    "# Esse vai ser o texto do feedback que queremos inserir no modelo, para receber a resposta (feedback possitivo ou feedback negativo)\n",
    "texto = 'Eu gostei do produto'"
   ]
  },
  {
   "cell_type": "code",
   "execution_count": 46,
   "id": "11254e76",
   "metadata": {},
   "outputs": [],
   "source": [
    "# Formatando texto para pandas\n",
    "dic = {'Comentario':[texto]}\n",
    "df = pd.DataFrame(dic)"
   ]
  },
  {
   "cell_type": "code",
   "execution_count": 47,
   "id": "10a91a60",
   "metadata": {},
   "outputs": [],
   "source": [
    "df['Comentario'] = texto"
   ]
  },
  {
   "cell_type": "code",
   "execution_count": 48,
   "id": "1a39505c",
   "metadata": {},
   "outputs": [
    {
     "data": {
      "text/plain": [
       "'Eu gostei do produto'"
      ]
     },
     "execution_count": 48,
     "metadata": {},
     "output_type": "execute_result"
    }
   ],
   "source": [
    "df['Comentario'][0]"
   ]
  },
  {
   "cell_type": "code",
   "execution_count": 49,
   "id": "7fd0cd7a",
   "metadata": {},
   "outputs": [],
   "source": [
    "# Transformando para formato json\n",
    "texto = df.to_json(orient='records')"
   ]
  },
  {
   "cell_type": "code",
   "execution_count": 50,
   "id": "65c79e7e",
   "metadata": {},
   "outputs": [
    {
     "data": {
      "text/plain": [
       "'[{\"Comentario\":\"Eu gostei do produto\"}]'"
      ]
     },
     "execution_count": 50,
     "metadata": {},
     "output_type": "execute_result"
    }
   ],
   "source": [
    "# Formato json da variavel texto\n",
    "texto"
   ]
  },
  {
   "cell_type": "markdown",
   "id": "3c3659e9",
   "metadata": {},
   "source": [
    "## Requisição"
   ]
  },
  {
   "cell_type": "code",
   "execution_count": 51,
   "id": "a6f8fc35",
   "metadata": {},
   "outputs": [],
   "source": [
    "# Configurando portas de entreda da API\n",
    "url = 'http://127.0.0.1:5000/predict'\n",
    "data = texto\n",
    "headers = {'Content-type':'application/json'}\n",
    "r = requests.post(url=url, data =data , headers=headers)"
   ]
  },
  {
   "cell_type": "markdown",
   "id": "a6b7b90a",
   "metadata": {},
   "source": [
    "## Resposta da API"
   ]
  },
  {
   "cell_type": "code",
   "execution_count": 52,
   "id": "56133d2a",
   "metadata": {},
   "outputs": [
    {
     "data": {
      "text/plain": [
       "[{'Comentario': 'Eu gostei do produto', 'Previsão': 'Feedback Possitivo'}]"
      ]
     },
     "execution_count": 52,
     "metadata": {},
     "output_type": "execute_result"
    }
   ],
   "source": [
    "# Resposta - target\n",
    "r.json()"
   ]
  }
 ],
 "metadata": {
  "kernelspec": {
   "display_name": "Python 3",
   "language": "python",
   "name": "python3"
  },
  "language_info": {
   "codemirror_mode": {
    "name": "ipython",
    "version": 3
   },
   "file_extension": ".py",
   "mimetype": "text/x-python",
   "name": "python",
   "nbconvert_exporter": "python",
   "pygments_lexer": "ipython3",
   "version": "3.8.8"
  }
 },
 "nbformat": 4,
 "nbformat_minor": 5
}
